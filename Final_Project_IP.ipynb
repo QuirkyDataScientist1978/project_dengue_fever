{
 "cells": [
  {
   "cell_type": "code",
   "execution_count": 1,
   "metadata": {},
   "outputs": [],
   "source": [
    "import pandas as pd\n",
    "import numpy as np\n",
    "import scipy\n",
    "\n",
    "prec = pd.read_excel('/Users/RodolfoSaldanha/Desktop/IP/final_project/Datasets/Lebanon_to_StVincent_pr_1991_2015.xls')\n",
    "temp = pd.read_excel('/Users/RodolfoSaldanha/Desktop/IP/final_project/Datasets/Lebanon_to_StVincent_temp_1991_2015.xls')\n",
    "occur = pd.read_excel('/Users/RodolfoSaldanha/Desktop/IP/final_project/Datasets/aegypti_albopictus.xlsx')"
   ]
  },
  {
   "cell_type": "code",
   "execution_count": 2,
   "metadata": {},
   "outputs": [],
   "source": [
    "temp.rename(columns={'\\tYear':'Year', ' Month':'Month', ' Country':'Country'}, inplace=True)\n",
    "prec.rename(columns={'\\tYear':'Year', ' Month':'Month', ' Country':'Country'}, inplace=True)"
   ]
  },
  {
   "cell_type": "code",
   "execution_count": 3,
   "metadata": {},
   "outputs": [
    {
     "data": {
      "text/html": [
       "<div>\n",
       "<style scoped>\n",
       "    .dataframe tbody tr th:only-of-type {\n",
       "        vertical-align: middle;\n",
       "    }\n",
       "\n",
       "    .dataframe tbody tr th {\n",
       "        vertical-align: top;\n",
       "    }\n",
       "\n",
       "    .dataframe thead th {\n",
       "        text-align: right;\n",
       "    }\n",
       "</style>\n",
       "<table border=\"1\" class=\"dataframe\">\n",
       "  <thead>\n",
       "    <tr style=\"text-align: right;\">\n",
       "      <th></th>\n",
       "      <th>VECTOR</th>\n",
       "      <th>OCCURRENCE_ID</th>\n",
       "      <th>YEAR</th>\n",
       "      <th>COUNTRY</th>\n",
       "      <th>COUNTRY_ID</th>\n",
       "    </tr>\n",
       "  </thead>\n",
       "  <tbody>\n",
       "    <tr>\n",
       "      <th>0</th>\n",
       "      <td>Aedes aegypti</td>\n",
       "      <td>1</td>\n",
       "      <td>1958</td>\n",
       "      <td>Kenya</td>\n",
       "      <td>KEN</td>\n",
       "    </tr>\n",
       "    <tr>\n",
       "      <th>1</th>\n",
       "      <td>Aedes aegypti</td>\n",
       "      <td>2</td>\n",
       "      <td>1960</td>\n",
       "      <td>Congo</td>\n",
       "      <td>COG</td>\n",
       "    </tr>\n",
       "    <tr>\n",
       "      <th>2</th>\n",
       "      <td>Aedes aegypti</td>\n",
       "      <td>3</td>\n",
       "      <td>1960</td>\n",
       "      <td>Congo</td>\n",
       "      <td>COG</td>\n",
       "    </tr>\n",
       "    <tr>\n",
       "      <th>3</th>\n",
       "      <td>Aedes aegypti</td>\n",
       "      <td>4</td>\n",
       "      <td>1960</td>\n",
       "      <td>Kenya</td>\n",
       "      <td>KEN</td>\n",
       "    </tr>\n",
       "    <tr>\n",
       "      <th>4</th>\n",
       "      <td>Aedes aegypti</td>\n",
       "      <td>5</td>\n",
       "      <td>1960</td>\n",
       "      <td>Kenya</td>\n",
       "      <td>KEN</td>\n",
       "    </tr>\n",
       "  </tbody>\n",
       "</table>\n",
       "</div>"
      ],
      "text/plain": [
       "          VECTOR  OCCURRENCE_ID  YEAR COUNTRY COUNTRY_ID\n",
       "0  Aedes aegypti              1  1958   Kenya        KEN\n",
       "1  Aedes aegypti              2  1960   Congo        COG\n",
       "2  Aedes aegypti              3  1960   Congo        COG\n",
       "3  Aedes aegypti              4  1960   Kenya        KEN\n",
       "4  Aedes aegypti              5  1960   Kenya        KEN"
      ]
     },
     "execution_count": 3,
     "metadata": {},
     "output_type": "execute_result"
    }
   ],
   "source": [
    "occur.drop(columns=['SOURCE_TYPE','LOCATION_TYPE','POLYGON_ADMIN','STATUS','GAUL_AD0','X','Y'],inplace=True)\n",
    "occur.head()"
   ]
  },
  {
   "cell_type": "code",
   "execution_count": 4,
   "metadata": {},
   "outputs": [
    {
     "data": {
      "text/html": [
       "<div>\n",
       "<style scoped>\n",
       "    .dataframe tbody tr th:only-of-type {\n",
       "        vertical-align: middle;\n",
       "    }\n",
       "\n",
       "    .dataframe tbody tr th {\n",
       "        vertical-align: top;\n",
       "    }\n",
       "\n",
       "    .dataframe thead th {\n",
       "        text-align: right;\n",
       "    }\n",
       "</style>\n",
       "<table border=\"1\" class=\"dataframe\">\n",
       "  <thead>\n",
       "    <tr style=\"text-align: right;\">\n",
       "      <th></th>\n",
       "      <th>OCCURRENCE_ID</th>\n",
       "      <th>YEAR</th>\n",
       "    </tr>\n",
       "  </thead>\n",
       "  <tbody>\n",
       "    <tr>\n",
       "      <th>count</th>\n",
       "      <td>40804.000000</td>\n",
       "      <td>40804.000000</td>\n",
       "    </tr>\n",
       "    <tr>\n",
       "      <th>mean</th>\n",
       "      <td>21123.633639</td>\n",
       "      <td>2006.723630</td>\n",
       "    </tr>\n",
       "    <tr>\n",
       "      <th>std</th>\n",
       "      <td>12090.639563</td>\n",
       "      <td>7.616601</td>\n",
       "    </tr>\n",
       "    <tr>\n",
       "      <th>min</th>\n",
       "      <td>1.000000</td>\n",
       "      <td>1958.000000</td>\n",
       "    </tr>\n",
       "    <tr>\n",
       "      <th>25%</th>\n",
       "      <td>11118.750000</td>\n",
       "      <td>2004.000000</td>\n",
       "    </tr>\n",
       "    <tr>\n",
       "      <th>50%</th>\n",
       "      <td>21319.500000</td>\n",
       "      <td>2008.000000</td>\n",
       "    </tr>\n",
       "    <tr>\n",
       "      <th>75%</th>\n",
       "      <td>31544.250000</td>\n",
       "      <td>2013.000000</td>\n",
       "    </tr>\n",
       "    <tr>\n",
       "      <th>max</th>\n",
       "      <td>42042.000000</td>\n",
       "      <td>2014.000000</td>\n",
       "    </tr>\n",
       "  </tbody>\n",
       "</table>\n",
       "</div>"
      ],
      "text/plain": [
       "       OCCURRENCE_ID          YEAR\n",
       "count   40804.000000  40804.000000\n",
       "mean    21123.633639   2006.723630\n",
       "std     12090.639563      7.616601\n",
       "min         1.000000   1958.000000\n",
       "25%     11118.750000   2004.000000\n",
       "50%     21319.500000   2008.000000\n",
       "75%     31544.250000   2013.000000\n",
       "max     42042.000000   2014.000000"
      ]
     },
     "execution_count": 4,
     "metadata": {},
     "output_type": "execute_result"
    }
   ],
   "source": [
    "occur['YEAR'] = pd.to_numeric(occur['YEAR'], downcast='integer',errors='coerce')\n",
    "occur.dropna(inplace=True)\n",
    "occur.describe()"
   ]
  },
  {
   "cell_type": "code",
   "execution_count": 12,
   "metadata": {},
   "outputs": [],
   "source": [
    "occur = occur.loc[(occur['YEAR']>=1991) & (occur['YEAR']<=2014)]\n",
    "occur.to_csv('occurence.csv', encoding='utf-8', index=False)"
   ]
  },
  {
   "cell_type": "code",
   "execution_count": null,
   "metadata": {},
   "outputs": [],
   "source": [
    "annualTemp = pd.DataFrame(temp.groupby(['Year','Country'])['tas'].sum()/12).reset_index()\n",
    "annualPrec = pd.DataFrame(prec.groupby(['Year','Country'])['pr'].sum()/12).reset_index()\n",
    "mergedData=pd.merge(annualTemp,annualPrec,\n",
    "                   how='inner',\n",
    "                   left_on = ['Year','Country'],\n",
    "                   right_on = ['Year','Country'])"
   ]
  },
  {
   "cell_type": "code",
   "execution_count": null,
   "metadata": {},
   "outputs": [],
   "source": [
    "temperature=temp.drop_duplicates()\n",
    "temperature.to_csv('temperature.csv', encoding='utf-8', index=False)\n",
    "temperature.describe()"
   ]
  },
  {
   "cell_type": "code",
   "execution_count": null,
   "metadata": {},
   "outputs": [],
   "source": [
    "precipitation=prec.drop_duplicates()\n",
    "precipitation.to_csv('precipitation.csv', encoding='utf-8', index=False)\n",
    "precipitation.describe()"
   ]
  },
  {
   "cell_type": "code",
   "execution_count": null,
   "metadata": {},
   "outputs": [],
   "source": [
    "mergedData.to_csv('temp_rain.csv', encoding='utf-8', index=False)"
   ]
  },
  {
   "cell_type": "code",
   "execution_count": null,
   "metadata": {},
   "outputs": [],
   "source": [
    "mergedData"
   ]
  },
  {
   "cell_type": "code",
   "execution_count": null,
   "metadata": {},
   "outputs": [],
   "source": [
    "tempByYear = pd.pivot_table(mergedData,\n",
    "                        values=\"tas\",\n",
    "                        index=['Country'],\n",
    "                        columns=['Year'])\n",
    "tempByYear.isnull().sum()"
   ]
  },
  {
   "cell_type": "code",
   "execution_count": null,
   "metadata": {},
   "outputs": [],
   "source": [
    "rainByYear = pd.pivot_table(mergedData,\n",
    "                        values=\"pr\",\n",
    "                        index=['Country'],\n",
    "                        columns=['Year'])\n",
    "rainByYear.isnull().sum()"
   ]
  },
  {
   "cell_type": "code",
   "execution_count": null,
   "metadata": {},
   "outputs": [],
   "source": []
  }
 ],
 "metadata": {
  "kernelspec": {
   "display_name": "Python 3",
   "language": "python",
   "name": "python3"
  },
  "language_info": {
   "codemirror_mode": {
    "name": "ipython",
    "version": 3
   },
   "file_extension": ".py",
   "mimetype": "text/x-python",
   "name": "python",
   "nbconvert_exporter": "python",
   "pygments_lexer": "ipython3",
   "version": "3.6.5"
  }
 },
 "nbformat": 4,
 "nbformat_minor": 2
}
